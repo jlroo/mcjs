{
 "cells": [
  {
   "cell_type": "markdown",
   "metadata": {},
   "source": [
    "# Marketlab Essentials - Montecarlo Simulation Usecase\n"
   ]
  },
  {
   "cell_type": "markdown",
   "metadata": {
    "toc": true
   },
   "source": [
    "<h1>Table of Contents<span class=\"tocSkip\"></span></h1>\n",
    "<div class=\"toc\" style=\"margin-top: 1em;\"><ul class=\"toc-item\"><li><span><a href=\"#Marketlab-Essentials---Montecarlo-Simulation-Usecase\" data-toc-modified-id=\"Marketlab-Essentials---Montecarlo-Simulation-Usecase-1\">Marketlab Essentials - Montecarlo Simulation Usecase</a></span><ul class=\"toc-item\"><li><span><a href=\"#Computing-$\\pi$-(Pi)---Monte-Carlo-Simulation\" data-toc-modified-id=\"Computing-$\\pi$-(Pi)---Monte-Carlo-Simulation-1.1\">Computing $\\pi$ (Pi) - Monte Carlo Simulation</a></span><ul class=\"toc-item\"><li><span><a href=\"#Monte-Carlo-Method\" data-toc-modified-id=\"Monte-Carlo-Method-1.1.1\">Monte Carlo Method</a></span></li><li><span><a href=\"#Uniform-Distribution\" data-toc-modified-id=\"Uniform-Distribution-1.1.2\">Uniform Distribution</a></span></li><li><span><a href=\"#Unit-Circle\" data-toc-modified-id=\"Unit-Circle-1.1.3\">Unit Circle</a></span></li></ul></li><li><span><a href=\"#Background\" data-toc-modified-id=\"Background-1.2\">Background</a></span></li><li><span><a href=\"#For-Loop-Approach\" data-toc-modified-id=\"For-Loop-Approach-1.3\">For Loop Approach</a></span></li><li><span><a href=\"#List-Comprehensions-Approach\" data-toc-modified-id=\"List-Comprehensions-Approach-1.4\">List Comprehensions Approach</a></span></li><li><span><a href=\"#Multiprocessing-Approach\" data-toc-modified-id=\"Multiprocessing-Approach-1.5\">Multiprocessing Approach</a></span></li></ul></li><li><span><a href=\"#Benchmarks\" data-toc-modified-id=\"Benchmarks-2\">Benchmarks</a></span><ul class=\"toc-item\"><li><span><a href=\"#For-Loop-Execution-Time\" data-toc-modified-id=\"For-Loop-Execution-Time-2.1\">For Loop Execution Time</a></span></li><li><span><a href=\"#List-Comprehensions-Execution-Time\" data-toc-modified-id=\"List-Comprehensions-Execution-Time-2.2\">List Comprehensions Execution Time</a></span></li><li><span><a href=\"#Multiprocessing-Execution-Time\" data-toc-modified-id=\"Multiprocessing-Execution-Time-2.3\">Multiprocessing Execution Time</a></span></li></ul></li><li><span><a href=\"#Visualization\" data-toc-modified-id=\"Visualization-3\">Visualization</a></span></li></ul></div>"
   ]
  },
  {
   "cell_type": "markdown",
   "metadata": {},
   "source": [
    "## Computing $\\pi$ (Pi) - Monte Carlo Simulation"
   ]
  },
  {
   "cell_type": "markdown",
   "metadata": {},
   "source": [
    "### Monte Carlo Method\n",
    "\n",
    "https://en.wikipedia.org/wiki/Monte_Carlo_method\n",
    "\n",
    "Monte Carlo methods (or Monte Carlo experiments) are a broad class of computational algorithms that rely on repeated random sampling to obtain numerical results. \n",
    "\n",
    "Their essential idea is using randomness to solve problems that might be deterministic in principle. They are often used in physical and mathematical problems and are most useful when it is difficult or impossible to use other approaches. \n",
    "\n",
    "Monte Carlo methods are mainly used in three distinct problem classes: optimization, numerical integration, and generating draws from a probability distribution."
   ]
  },
  {
   "cell_type": "markdown",
   "metadata": {},
   "source": [
    "### Uniform Distribution\n",
    "\n",
    "https://docs.scipy.org/doc/numpy-1.12.0/reference/generated/numpy.random.uniform.html\n",
    "\n",
    "![uniform-distribution](https://docs.scipy.org/doc/numpy-1.12.0/_images/numpy-random-uniform-1.png)"
   ]
  },
  {
   "cell_type": "markdown",
   "metadata": {},
   "source": [
    "### Unit Circle\n",
    "\n",
    "https://en.wikipedia.org/wiki/Unit_circle\n",
    "\n",
    "\n",
    "![Unit-Circle](https://upload.wikimedia.org/wikipedia/commons/thumb/4/4c/Unit_circle_angles_color.svg/720px-Unit_circle_angles_color.svg.png)\n",
    "\n"
   ]
  },
  {
   "cell_type": "markdown",
   "metadata": {},
   "source": [
    "## Background\n",
    "\n",
    "Monte Carlo methods vary, but tend to follow a particular pattern:\n",
    "\n",
    "1. Define a domain of possible inputs\n",
    "2. Generate inputs randomly from a probability distribution over the domain\n",
    "3. Perform a deterministic computation on the inputs\n",
    "4. Aggregate the results\n",
    "\n",
    "For example, consider a quadrant inscribed in a unit square. Given that the ratio of their areas is $\\pi/4$ , the value of $\\pi$ can be approximated using a Monte Carlo method:\n",
    "\n",
    "1. Draw a square, then inscribe a quadrant within it\n",
    "2. Uniformly scatter a given number of points over the square\n",
    "3. Count the number of points inside the quadrant, i.e. having a distance from the origin of less than 1\n",
    "4. The ratio of the inside-count and the total-sample-count is an estimate of the ratio of the two areas, $\\pi/4$. Multiply the result by 4 to estimate $\\pi$.\n",
    "\n",
    "In this procedure the domain of inputs is the square that circumscribes the quadrant. We generate random inputs by scattering grains over the square then perform a computation on each input (test whether it falls within the quadrant). Aggregating the results yields our final result, the approximation of $\\pi$.\n",
    "\n",
    "There are two important points:\n",
    "\n",
    "1. If the points are not uniformly distributed, then the approximation will be poor.\n",
    "2. There are a large number of points. The approximation is generally poor if only a few points are randomly placed in the whole square. On average, the approximation improves as more points are placed.\n",
    "\n",
    "Uses of Monte Carlo methods require large amounts of random numbers, and it was their use that spurred the development of pseudorandom number generators, which were far quicker to use than the tables of random numbers that had been previously used for statistical sampling."
   ]
  },
  {
   "cell_type": "code",
   "execution_count": 1,
   "metadata": {},
   "outputs": [],
   "source": [
    "import time\n",
    "import numpy as np\n",
    "import multiprocessing as mp\n",
    "import matplotlib.pyplot as plt\n",
    "from collections import Counter"
   ]
  },
  {
   "cell_type": "markdown",
   "metadata": {},
   "source": [
    "## For Loop Approach"
   ]
  },
  {
   "cell_type": "code",
   "execution_count": 2,
   "metadata": {},
   "outputs": [],
   "source": [
    "def __inside__():\n",
    "    x = np.random.uniform(low=0.0, high=1.0)\n",
    "    y = np.random.uniform(low=0.0, high=1.0)\n",
    "    quadrant = x**2 + y**2\n",
    "    return quadrant <= 1\n",
    "\n",
    "def pi_for(N):\n",
    "    inside_quadrant = 0.0\n",
    "    for i in range(N):       \n",
    "        quadrant = __inside__()\n",
    "        if quadrant:\n",
    "            inside_quadrant += 1.0            \n",
    "    ratio = inside_quadrant/float(N)\n",
    "    guess = 4.0 * ratio\n",
    "    return guess"
   ]
  },
  {
   "cell_type": "markdown",
   "metadata": {},
   "source": [
    "## List Comprehensions Approach"
   ]
  },
  {
   "cell_type": "code",
   "execution_count": 3,
   "metadata": {},
   "outputs": [],
   "source": [
    "def __inside__():\n",
    "    x = np.random.uniform(low=0.0, high=1.0)\n",
    "    y = np.random.uniform(low=0.0, high=1.0)\n",
    "    quadrant = x**2 + y**2\n",
    "    return quadrant <= 1\n",
    "    \n",
    "def pi_list(N):\n",
    "    inside = [ __inside__() for i in range(N)]\n",
    "    cnt = Counter(inside)\n",
    "    ratio = float(dict(cnt)[True])/float(N)\n",
    "    guess = 4.0 * ratio\n",
    "    return guess"
   ]
  },
  {
   "cell_type": "markdown",
   "metadata": {},
   "source": [
    "## Multiprocessing Approach"
   ]
  },
  {
   "cell_type": "code",
   "execution_count": 4,
   "metadata": {},
   "outputs": [],
   "source": [
    "def mp_inside(i):\n",
    "    x = np.random.uniform(low=0.0, high=1.0)\n",
    "    y = np.random.uniform(low=0.0, high=1.0)\n",
    "    quadrant = x**2 + y**2\n",
    "    return quadrant <= 1\n",
    "\n",
    "def pi_mp(N):\n",
    "    with mp.Pool() as pool:\n",
    "        inside = pool.map(mp_inside, range(N))\n",
    "    cnt = Counter(inside)\n",
    "    ratio = float(dict(cnt)[True])/float(N)\n",
    "    guess = 4.0 * ratio\n",
    "    return guess"
   ]
  },
  {
   "cell_type": "markdown",
   "metadata": {},
   "source": [
    "------\n",
    "\n",
    "# Benchmarks\n",
    "\n",
    "-----"
   ]
  },
  {
   "cell_type": "code",
   "execution_count": 5,
   "metadata": {},
   "outputs": [],
   "source": [
    "num_iterations = 1000000"
   ]
  },
  {
   "cell_type": "markdown",
   "metadata": {},
   "source": [
    "## For Loop Execution Time"
   ]
  },
  {
   "cell_type": "code",
   "execution_count": 6,
   "metadata": {},
   "outputs": [
    {
     "name": "stdout",
     "output_type": "stream",
     "text": [
      "CPU times: user 1.44 s, sys: 5.07 ms, total: 1.45 s\n",
      "Wall time: 1.45 s\n"
     ]
    },
    {
     "data": {
      "text/plain": [
       "3.1422"
      ]
     },
     "execution_count": 6,
     "metadata": {},
     "output_type": "execute_result"
    }
   ],
   "source": [
    "%%time \n",
    "pi_for(N=num_iterations)"
   ]
  },
  {
   "cell_type": "markdown",
   "metadata": {},
   "source": [
    "## List Comprehensions Execution Time"
   ]
  },
  {
   "cell_type": "code",
   "execution_count": 7,
   "metadata": {},
   "outputs": [
    {
     "name": "stdout",
     "output_type": "stream",
     "text": [
      "CPU times: user 1.47 s, sys: 12.7 ms, total: 1.48 s\n",
      "Wall time: 1.47 s\n"
     ]
    },
    {
     "data": {
      "text/plain": [
       "3.14188"
      ]
     },
     "execution_count": 7,
     "metadata": {},
     "output_type": "execute_result"
    }
   ],
   "source": [
    "%%time\n",
    "pi_list(N=num_iterations)"
   ]
  },
  {
   "cell_type": "markdown",
   "metadata": {},
   "source": [
    "## Multiprocessing Execution Time"
   ]
  },
  {
   "cell_type": "code",
   "execution_count": 8,
   "metadata": {},
   "outputs": [
    {
     "name": "stdout",
     "output_type": "stream",
     "text": [
      "CPU times: user 140 ms, sys: 38.7 ms, total: 179 ms\n",
      "Wall time: 407 ms\n"
     ]
    },
    {
     "data": {
      "text/plain": [
       "3.136364"
      ]
     },
     "execution_count": 8,
     "metadata": {},
     "output_type": "execute_result"
    }
   ],
   "source": [
    "%%time\n",
    "pi_mp(N=num_iterations)"
   ]
  },
  {
   "cell_type": "markdown",
   "metadata": {},
   "source": [
    "# Visualization"
   ]
  },
  {
   "cell_type": "code",
   "execution_count": 9,
   "metadata": {},
   "outputs": [],
   "source": [
    "import matplotlib.cm as cm\n",
    "import matplotlib.pyplot as plt\n",
    "from matplotlib.patches import Circle, PathPatch\n",
    "from matplotlib.path import Path\n",
    "from matplotlib.transforms import Affine2D"
   ]
  },
  {
   "cell_type": "code",
   "execution_count": 10,
   "metadata": {},
   "outputs": [],
   "source": [
    "def sim(N):\n",
    "    data = {}\n",
    "    inside_quadrant = 0.0\n",
    "    data['x'] = []\n",
    "    data['y'] = []\n",
    "    data['color'] = []\n",
    "    for n in range(N):\n",
    "        x = np.random.uniform(low=0.0, high=1.0)\n",
    "        y = np.random.uniform(low=0.0, high=1.0)\n",
    "        quadrant = x**2 + y**2\n",
    "        if quadrant <=1.0:\n",
    "            inside_quadrant += 1.0\n",
    "        data['x'].append(x)\n",
    "        data['y'].append(y)\n",
    "        data['color'].append('blue' if x**2 + y**2 < 1 else 'red')\n",
    "    ratio = inside_quadrant/float(N)\n",
    "    guess = 4.0 * ratio\n",
    "    data['pi_guess'] = guess\n",
    "    return data"
   ]
  },
  {
   "cell_type": "code",
   "execution_count": 11,
   "metadata": {},
   "outputs": [],
   "source": [
    "data = sim(N=10000)"
   ]
  },
  {
   "cell_type": "code",
   "execution_count": 12,
   "metadata": {},
   "outputs": [
    {
     "data": {
      "text/plain": [
       "[0.1703381010224776,\n",
       " 0.0978828941581531,\n",
       " 0.5895785432356287,\n",
       " 0.4098705908837562,\n",
       " 0.9729813019182668]"
      ]
     },
     "execution_count": 12,
     "metadata": {},
     "output_type": "execute_result"
    }
   ],
   "source": [
    "data['x'][:5]"
   ]
  },
  {
   "cell_type": "code",
   "execution_count": 13,
   "metadata": {},
   "outputs": [
    {
     "data": {
      "text/plain": [
       "[0.7981795338619797,\n",
       " 0.27195349231092936,\n",
       " 0.8354213107056092,\n",
       " 0.7325153061587218,\n",
       " 0.7765137582964374]"
      ]
     },
     "execution_count": 13,
     "metadata": {},
     "output_type": "execute_result"
    }
   ],
   "source": [
    "data['y'][:5]"
   ]
  },
  {
   "cell_type": "code",
   "execution_count": 14,
   "metadata": {},
   "outputs": [
    {
     "data": {
      "text/plain": [
       "['blue', 'blue', 'red', 'blue', 'red']"
      ]
     },
     "execution_count": 14,
     "metadata": {},
     "output_type": "execute_result"
    }
   ],
   "source": [
    "data['color'][:5]"
   ]
  },
  {
   "cell_type": "code",
   "execution_count": 15,
   "metadata": {},
   "outputs": [
    {
     "data": {
      "image/png": "[encoded data removed]",
      "text/plain": [
       "<Figure size 576x576 with 1 Axes>"
      ]
     },
     "metadata": {
      "needs_background": "light"
     },
     "output_type": "display_data"
    },
    {
     "name": "stdout",
     "output_type": "stream",
     "text": [
      "Estimate of Pi:3.1488\n"
     ]
    }
   ],
   "source": [
    "fig, ax = plt.subplots(figsize=(8, 8))\n",
    "circle = Circle((0, 0), 1, facecolor='none', edgecolor=(0, 0, 0), linewidth=2, alpha=0.5)\n",
    "ax.add_patch(circle)\n",
    "plt.scatter(data['x'], data['y'],color=data['color'], alpha=0.4)\n",
    "plt.show()\n",
    "\n",
    "print(\"Estimate of Pi:\" + str(data['pi_guess']))"
   ]
  }
 ],
 "metadata": {
  "anaconda-cloud": {},
  "hide_input": false,
  "kernelspec": {
   "display_name": "Python 3",
   "language": "python",
   "name": "python3"
  },
  "language_info": {
   "codemirror_mode": {
    "name": "ipython",
    "version": 3
   },
   "file_extension": ".py",
   "mimetype": "text/x-python",
   "name": "python",
   "nbconvert_exporter": "python",
   "pygments_lexer": "ipython3",
   "version": "3.7.3"
  },
  "toc": {
   "nav_menu": {},
   "number_sections": false,
   "sideBar": true,
   "skip_h1_title": false,
   "toc_cell": true,
   "toc_position": {},
   "toc_section_display": "none",
   "toc_window_display": true
  }
 },
 "nbformat": 4,
 "nbformat_minor": 2
}
